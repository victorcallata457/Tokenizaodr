{
 "cells": [
  {
   "cell_type": "code",
   "execution_count": 1,
   "metadata": {},
   "outputs": [],
   "source": [
    "from tensorflow.keras.preprocessing.text import Tokenizer"
   ]
  },
  {
   "cell_type": "code",
   "execution_count": 2,
   "metadata": {},
   "outputs": [
    {
     "name": "stdout",
     "output_type": "stream",
     "text": [
      "{'love': 1, 'my': 2, 'i': 3, 'dog': 4, 'cat': 5, 'you': 6}\n"
     ]
    }
   ],
   "source": [
    "sentences = [\n",
    "    'I love my dog',\n",
    "    'I, love my cat',\n",
    "    'You love my dog!'\n",
    "]\n",
    "\n",
    "tokenizer = Tokenizer(num_words = 100)\n",
    "tokenizer.fit_on_texts(sentences)\n",
    "word_index = tokenizer.word_index\n",
    "print(word_index)"
   ]
  },
  {
   "cell_type": "code",
   "execution_count": 3,
   "metadata": {},
   "outputs": [
    {
     "name": "stdout",
     "output_type": "stream",
     "text": [
      "{'love': 1, 'my': 2, 'i': 3, 'dog': 4, 'cat': 5, 'you': 6}\n",
      "[[3, 1, 2, 4], [3, 1, 2, 5], [6, 1, 2, 4]]\n"
     ]
    }
   ],
   "source": [
    "from tensorflow.keras.preprocessing.text import Tokenizer\n",
    "sentences = [\n",
    "    'i love my dog',\n",
    "    'I, love my cat',\n",
    "    'You love my dog!'\n",
    "]\n",
    "\n",
    "tokenizer = Tokenizer(num_words = 100)\n",
    "tokenizer.fit_on_texts(sentences)\n",
    "word_index = tokenizer.word_index\n",
    "sequences = tokenizer.texts_to_sequences(sentences)\n",
    "print(word_index)\n",
    "print(sequences)"
   ]
  },
  {
   "cell_type": "code",
   "execution_count": 5,
   "metadata": {},
   "outputs": [
    {
     "name": "stdout",
     "output_type": "stream",
     "text": [
      "{'de': 1, 'su': 2, 'el': 3, 'con': 4, 'y': 5, 'en': 6, 'una': 7, 'prueba': 8, 'palabras': 9, 'para': 10, 'realización': 11, 'director': 12, 'ha': 13, 'contado': 14, 'cuatro': 15, 'jóvenes': 16, 'debutantes': 17, 'sandra': 18, 'escacena': 19, 'guion': 20, 'paco': 21, 'plaza': 22, 'fernando': 23, 'navarro': 24, 'está': 25, 'inspirado': 26, 'historia': 27, 'real': 28, 'año': 29, '1991': 30, 'verónica': 31, 'es': 32, 'niña': 33, '15': 34, 'años': 35, 'que': 36, 'vive': 37, 'madre': 38, 'tres': 39, 'hermanos': 40, 'un': 41, 'apartamento': 42, 'fin': 43}\n",
      "[[8, 1, 9], [10, 2, 11, 3, 12, 13, 14, 4, 15, 16, 17, 18, 19], [3, 20, 1, 21, 22, 5, 23, 24, 25, 26, 6, 7, 27, 28], [29, 30, 31, 32, 7, 33, 1, 34, 35, 36, 37, 4, 2, 38, 5, 39, 40, 6, 41, 42], [43]]\n"
     ]
    }
   ],
   "source": [
    "from tensorflow.keras.preprocessing.text import Tokenizer\n",
    "sentences = [\n",
    "    'Prueba de palabras',\n",
    "    'Para su realización, el director ha contado con cuatro jóvenes debutantes: Sandra Escacena',\n",
    "    'El guion de Paco Plaza y Fernando Navarro está inspirado en una historia real ',\n",
    "    'Año 1991, Verónica es una niña de 15 años que vive con su madre y tres hermanos en un apartamento ',\n",
    "    'fin'\n",
    "]\n",
    "\n",
    "tokenizer = Tokenizer(num_words = 100)\n",
    "tokenizer.fit_on_texts(sentences)\n",
    "word_index = tokenizer.word_index\n",
    "sequences = tokenizer.texts_to_sequences(sentences)\n",
    "print(word_index)\n",
    "print(sequences)"
   ]
  },
  {
   "cell_type": "code",
   "execution_count": null,
   "metadata": {},
   "outputs": [],
   "source": []
  }
 ],
 "metadata": {
  "kernelspec": {
   "display_name": "Python 3",
   "language": "python",
   "name": "python3"
  },
  "language_info": {
   "codemirror_mode": {
    "name": "ipython",
    "version": 3
   },
   "file_extension": ".py",
   "mimetype": "text/x-python",
   "name": "python",
   "nbconvert_exporter": "python",
   "pygments_lexer": "ipython3",
   "version": "3.7.3"
  }
 },
 "nbformat": 4,
 "nbformat_minor": 2
}
